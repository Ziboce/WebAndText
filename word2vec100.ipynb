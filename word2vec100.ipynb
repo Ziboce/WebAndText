{
 "cells": [
  {
   "cell_type": "code",
   "execution_count": 1,
   "metadata": {},
   "outputs": [],
   "source": [
    "import torch\n",
    "import torch.nn as nn\n",
    "from gensim.models import Word2Vec\n",
    "import numpy as np\n",
    "from sklearn.model_selection import train_test_split"
   ]
  },
  {
   "cell_type": "markdown",
   "metadata": {},
   "source": [
    "# Parameters"
   ]
  },
  {
   "cell_type": "code",
   "execution_count": 2,
   "metadata": {},
   "outputs": [],
   "source": [
    "# It is arbitrary values\n",
    "EMBEDDING_DIM = 100\n",
    "HIDDEN_DIM = 256\n",
    "N_LAYERS = 1\n",
    "DROPOUT = 0.5\n",
    "N_EPOCHS = 5\n",
    "LR = 0.001\n",
    "BATCH_SIZE = 32\n",
    "SEQ_LEN = 6"
   ]
  },
  {
   "cell_type": "markdown",
   "metadata": {},
   "source": [
    "# Tokenization"
   ]
  },
  {
   "cell_type": "code",
   "execution_count": 3,
   "metadata": {},
   "outputs": [
    {
     "name": "stdout",
     "output_type": "stream",
     "text": [
      "['Official Journal EN\\n', 'of the European Union L series\\n', '2024/2509 26.9.2024\\n', 'REGULATION (EU, Euratom) 2024/2509 OF THE EUROPEAN PARLIAMENT AND OF THE\\n', 'COUNCIL\\n', 'of 23 September 2024\\n', 'on the financial rules applicable to the general budget of the Union\\n', '(recast)\\n', 'THE EUROPEAN PARLIAMENT AND THE COUNCIL OF THE EUROPEAN UNION,\\n', 'Having regard to the Treaty on the Functioning of the European Union, and in particular Article 322(1) thereof, in\\n', 'conjunction with the Treaty establishing the European Atomic Energy Community, and in particular Article 106a thereof,\\n', 'Having regard to the proposal from the European Commission,\\n', 'After transmission of the draft legislative act to the national parliaments,\\n', 'Having regard to the opinion of the Court of Auditors (1),\\n', 'Acting in accordance with the ordinary legislative procedure (2),\\n', 'Whereas:\\n', '(1) A number of amendments are to be made to Regulation (EU, Euratom) 2018/1046 of the European Parliament and\\n', 'of the Council (3). In the interests of clarity and legal certainty, that Regulation should be recast.\\n', '(2) This Regulation lays down the financial rules applicable to the general budget of the Union (the ‘budget’) within the\\n', 'meaning of Article 322 of the Treaty on the Functioning of the European Union (TFEU) and does not regulate or\\n', 'affect the implementation of restrictive measures adopted on the basis of the TFEU and the Treaty on European\\n', 'Union (TEU), including in the framework of implementation of the budget.\\n', '(3) Taking into account the experience gained with the implementation of the financial rules applicable to the budget\\n', 'and following the adoption of Council Regulation (EU, Euratom) 2020/2093 (4), certain targeted amendments\\n', 'should be made in order to align those financial rules to the new legal framework, adapt them to the needs of\\n', 'efficient crisis management and enhance the protection of the financial interests of the Union. Furthermore, targeted\\n', 'simplifications, technical updates and corrections should be made.\\n', '(4) Following the adoption of Regulation (EU, Euratom) 2020/2093, the references to basic acts should be replaced and\\n', 'the references to Council Decision (EU, Euratom) 2020/2053 (5), to Council Regulation (EU, Euratom) 2021/768 (6)\\n', 'and to the Interinstitutional Agreement of 16 December 2020 on budgetary discipline, on cooperation in budgetary\\n', 'matters and on sound financial management, as well as on new own resources, including a roadmap towards the\\n', 'introduction of new own resources (7) should be added to the references used throughout this Regulation.\\n', '(1) OJ C 466, 24.11.2022, p. 26.\\n', '(2) Position of the European Parliament of 14 March 2024 (not yet published in the Official Journal) and decision of the Council of\\n', '19 September 2024.\\n', '(3) Regulation (EU, Euratom) 2018/1046 of the European Parliament and of the Council of 18 July 2018 on the financial rules\\n', 'applicable to the general budget of the Union, amending Regulations (EU) No 1296/2013, (EU) No 1301/2013, (EU)\\n', 'No 1303/2013, (EU) No 1304/2013, (EU) No 1309/2013, (EU) No 1316/2013, (EU) No 223/2014, (EU) No 283/2014, and\\n', 'Decision No 541/2014/EU and repealing Regulation (EU, Euratom) No 966/2012 (OJ L 193, 30.7.2018, p. 1).\\n', '(4) Council Regulation (EU, Euratom) 2020/2093 of 17 December 2020 laying down the multiannual financial framework for the years\\n', '2021 to 2027 (OJ L 433 I, 22.12.2020, p. 11).\\n', '(5) Council Decision (EU, Euratom) 2020/2053 of 14 December 2020 on the system of own resources of the European Union and\\n', 'repealing Decision 2014/335/EU, Euratom (OJ L 424, 15.12.2020, p. 1).\\n', '(6) Council Regulation (EU, Euratom) 2021/768 of 30 April 2021 laying down implementing measures for the system of own resources\\n', 'of the European Union and repealing Regulation (EU, Euratom) No 608/2014 (OJ L 165, 11.5.2021, p. 1.).\\n', '(7) OJ L 433 I, 22.12.2020, p. 28.\\n', 'ELI: http://data.europa.eu/eli/reg/2024/2509/oj 1/239EN\\n', 'OJ L, 26.9.2024\\n', '(5) In the interest of clarity, all references to repealed Regulation (EC) No 45/2001 of the European Parliament and of\\n', 'the Council (8) should be replaced by references to Regulation (EU) 2018/1725 of the European Parliament and of\\n', 'the Council (9).\\n', '(6) In the interest of legal certainty, a number of cross-references should be corrected.\\n', '(7) It is necessary to better reflect the specific nature and functioning of the provisioning of financial liabilities and of\\n', 'the budgetary guarantees. Certain definitions and rules on budgetary guarantees, budgetary commitments, legal\\n', 'commitments, payment appropriations, recipients and publication of information on recipients should therefore be\\n', 'adjusted. A definition of the constitution phase of the provisioning of financial liabilities should be added.\\n', 'Additionally, definitions should be updated to reflect in particular amendments to procurement rules and the\\n', 'introduction of rules on non-financial donations.\\n', '(8) In order to enhance transparency on recipients of Union funds which are non-governmental organisations,\\n', 'a definition of non-governmental organisations should be introduced, providing for criteria to identify them. In\\n', 'addition, grant applicants should declare their legal status, including whether they are non-governmental\\n', 'organisations.\\n', '(9) A reference to the general regime of conditionality for the protection of the budget laid down in Regulation (EU,\\n', 'Euratom) 2020/2092 of the European Parliament and of the Council (10) should be inserted in this Regulation.\\n', 'Regulation (EU, Euratom) 2020/2092 is a cornerstone of the legal framework for the implementation of the budget.\\n', '(10) It is essential that in the implementation of the budget, Member States and the Commission ensure compliance with\\n', 'the Charter of Fundamental Rights of the European Union, and respect the Union values enshrined in Article 2 TEU.\\n', '(11) This Regulation should enable authorising officers, where relevant in accordance with sector-specific rules, to adopt\\n', 'appropriate measures and take action to protect the budget, for example through suspension of payments, in cases\\n', 'where the implementation by a Member State of an action financed from Union funds is affected by that Member\\n', 'State’s non-respect of relevant Union values and fundamental rights.\\n', '(12) The fundamental budgetary principles should be maintained. Existing derogations from those principles for specific\\n', 'areas such as research, external actions and structural funds should be reviewed and simplified as far as possible,\\n', 'taking into account their continuing relevance, their added value for the budget, and the burden they impose on\\n', 'stakeholders.\\n', '(13) Rules on the carry-over of appropriations should be presented more clearly and a distinction should be made\\n', 'between automatic and non-automatic carry-overs. The Union institutions concerned should provide information to\\n', 'the European Parliament and to the Council on both automatic and non-automatic carry-overs.\\n', '(14) The carrying-over and use of external assigned revenue for the succeeding programme or action should be allowed\\n', 'with a view to using such funds efficiently. It should be possible to carry over internal assigned revenue only to the\\n', 'following financial year, except where this Regulation provides otherwise.\\n', '(15) Following the adoption of Regulation (EU, Euratom) 2020/2093 and the basic acts related thereto, certain rules\\n', 'related to budgetary principles, in particular as regards cancellation and carry-over, decommitments and making\\n', 'appropriations corresponding to decommitments available again, laid down in Regulations (EU) 2021/1060 (11) and\\n', '(8) Regulation (EC) No 45/2001 of the European Parliament and of the Council of 18 December 2000 on the protection of individuals\\n', 'with regard to the processing of personal data by the Community institutions and bodies and on the free movement of such data (OJ\\n', 'L 8, 12.1.2001, p. 1).\\n', '(9) Regulation (EU) 2018/1725 of the European Parliament and of the Council of 23 October 2018 on the protection of natural\\n', 'persons with regard to the processing of personal data by the Union institutions, bodies, offices and agencies and on the free\\n', 'movement of such data, and repealing Regulation (EC) No 45/2001 and Decision No 1247/2002/EC (OJ L 295, 21.11.2018, p. 39).\\n', '(10) Regulation (EU, Euratom) 2020/2092 of the European Parliament and of the Council of 16 December 2020 on a general regime of\\n', 'conditionality for the protection of the Union budget (OJ L 433 I, 22.12.2020, p. 1).\\n', '(11) Regulation (EU) 2021/1060 of the European Parliament and of the Council of 24 June 2021 laying down common provisions on\\n', 'the European Regional Development Fund, the European Social Fund Plus, the Cohesion Fund, the Just Transition Fund and the\\n', 'European Maritime, Fisheries and Aquaculture Fund and financial rules for those and for the Asylum, Migration and Integration\\n', 'Fund, the Internal Security Fund and the Instrument for Financial Support for Border Management and Visa Policy (OJ L 231,\\n', '30.6.2021, p. 159).\\n', '2/239 ELI: http://data.europa.eu/eli/reg/2024/2509/ojEN\\n', 'OJ L, 26.9.2024\\n', '(EU) 2021/2116 (12) of the European Parliament and of the Council, should be incorporated into this Regulation.\\n', '(16) With regard to internal assigned revenue, the financing of new building projects with the revenue from lettings and\\n', 'the sale of buildings should be allowed. To that end, such revenue should be considered as internal assigned revenue\\n', 'which can be carried over until it is fully used.\\n', '(17) In the interest of simplification and in order to align better the timing of contributions from Member States with the\\n', 'corresponding payment needs, all additional financial contributions from Member States to Union’s actions and\\n', 'programmes, including voluntary contributions, should be subject to the same treatment and be considered as\\n', 'external assigned revenue.\\n', '(18) In order to increase transparency and visibility in the presentation of assigned revenue while maintaining the\\n', 'substance of the information previously provided, detailed information on the estimated amount of the internal and\\n', 'external assigned revenue to be received, and the foreseen allocation to the relevant budget lines, should be provided\\n', 'in an annex, which forms an integral part of the budget. In addition, it is appropriate to clarify the reporting\\n', 'requirements regarding the implementation of the internal and external assigned revenue in the preceding year. This\\n', 'will ensure that all information on the implementation of assigned revenue and forecast of assigned revenue to be\\n', 'received is presented in a clear and accessible manner.\\n', '(19) The rules on transfers that are subject to special provisions should be updated to take into account the Solidarity and\\n', 'Emergency Aid Reserve established pursuant to Regulation (EU, Euratom) 2020/2093. In addition, adjustments\\n', 'should be made in order to reflect that draft amending budgets are no longer required for the mobilisation of the\\n', 'Solidarity and Emergency Aid Reserve.\\n', '(20) Union institutions should be able to accept any donation made to the Union.\\n', '(21) In order to allow a rapid reaction in exceptional circumstances, the Commission should be able to accept in-kind\\n', 'donations, irrespective of their value, where such donations are made for the purposes of humanitarian aid,\\n', 'emergency support, civil protection or crisis management aid. In order to ensure appropriate safeguards, the\\n', 'Commission should only accept such donations where acceptance is in accordance with the principles of sound\\n', 'financial management and transparency, does not give rise to conflicts of interest, does not harm the image of the\\n', 'Union and does not harm or risk harming the security or public order of the Union or Member States. The donor\\n', 'should not be, at the moment of acceptance, in one of the exclusion situations under the early detection and\\n', 'exclusion system and should not be registered as excluded in the corresponding database. Where the Commission\\n', 'accepts a donation, the authorising officer responsible should provide information thereon in his or her annual\\n', 'activity report.\\n', '(22) A provision should be introduced to allow for in-kind sponsorship by a legal person of an event or activity for\\n', 'promotional or corporate social responsibility purposes.\\n', '(23) The concept of performance as regards the budget should be clarified. Performance should be linked to the direct\\n', 'application of the principle of sound financial management. The principle of sound financial management should\\n', 'also be defined, and a link should be established between objectives set and performance indicators, results and\\n', 'economy, efficiency and effectiveness in the use of appropriations. For reasons of legal certainty, while avoiding\\n', 'conflicts with existing performance frameworks of the different programmes, performance terminology, in\\n', 'particular output and results, should be defined.\\n', '(24) In light of the horizontal gender mainstreaming goal, targets for monitoring climate spending and performance and\\n', 'expenditure contributing to halting and reversing the decline of biodiversity, specific performance indicators for the\\n', 'budget should be introduced to track the spending on gender equality, as well as on climate change mitigation and\\n', '(12) Regulation (EU) 2021/2116 of the European Parliament and of the Council of 2 December 2021 on the financing, management and\\n', 'monitoring of the common agricultural policy and repealing Regulation (EU) No 1306/2013 (OJ L 435, 6.12.2021, p. 187).\\n', 'ELI: http://data.europa.eu/eli/reg/2024/2509/oj 3/239EN\\n', 'OJ L, 26.9.2024\\n', 'adaptation and the protection of biodiversity. Such indicators should be concise and proportionate, avoid\\n', 'overlapping, be limited in number and not result in excessive administrative burden. They should be based on an\\n', 'effective, transparent and comprehensive methodology and, where appropriate, widely recognised scientific\\n', 'evidence. Where appropriate, the data collected in relation to such indicators should be broken down by gender and\\n', 'should be collected in a way that allows for the aggregation of such data across all relevant programmes.\\n', '(25) Considering the importance of addressing climate and environmental challenges and in order to ensure that budget\\n', 'implementation contributes to the achievement of the European Green Deal as referred to in the communication of\\n', 'the Commission of 11 December 2019 on the European Green Deal, of the Union’s climate and energy targets and\\n', 'of climate neutrality by 2050, the concept of performance as regards the budget should be extended to include the\\n', 'implementation of programmes and activities in a sustainable way, which would not hinder the achievement of the\\n', 'environmental objectives of climate change mitigation, climate change adaptation, the sustainable use and protection\\n', 'of water and marine resources, the transition to a circular economy, pollution prevention and control and the\\n', 'protection and restoration of biodiversity and ecosystems.\\n', '(26) It is important to promote social rights and fair working and labour conditions, in line with the European Pillar of\\n', 'Social Rights and Article 9 TFEU. Where feasible and appropriate, the Commission and Member States should\\n', 'respect relevant applicable national law, Union law, conventions of the International Labour Organization (ILO) and\\n', 'collective agreements when implementing programmes and activities funded by the budget.\\n', '(27) In accordance with the Interinstitutional Agreement of 13 April 2016 on Better Law-Making (13), Union legislation\\n', 'should be of high quality and should focus on areas where it has the greatest added value for citizens and is as\\n', 'efficient and effective as possible in delivering the common policy objectives of the Union. Making existing and new\\n', 'spending programmes and activities entailing significant spending subject to evaluation can help achieve those\\n', 'objectives.\\n', '(28) In order to implement the Commission’s commitment to be digital by default and to foster more efficient and\\n', 'qualitative controls and audits by increasing the level of assurance while decreasing the cost, it is appropriate to\\n', 'introduce an explicit reference to the use of digital tools and emerging technologies such as machine learning,\\n', 'robotic process automation, data-mining and artificial intelligence.\\n', '(29) In order to enhance the protection of the budget against irregularities including fraud, corruption, conflicts of\\n', 'interest and double funding, standardised measures to collect, compare and aggregate information on recipients of\\n', 'Union funds should be introduced. In particular, in order to effectively prevent, detect, investigate and correct frauds\\n', 'or remedy irregularities, it is necessary to be able to identify the natural persons that ultimately benefit, directly or\\n', 'indirectly, from Union funding or the misuse of that funding. The electronic recording and storage of data on\\n', 'recipients of Union funds, including their beneficial owners as defined in Article 3, point (6), of Directive (EU)\\n', '2015/849 of the European Parliament and of the Council (14), and the regular making of those data available in\\n', 'a single integrated and interoperable information and monitoring system, including a single data-mining and\\n', 'risk-scoring tool (single integrated IT system) provided by the Commission should facilitate risk assessment for the\\n', 'purposes of selection, award, financial management, monitoring, investigation, control and audit and contribute to\\n', 'effective prevention, detection, correction and follow-up of irregularities including fraud, corruption, conflicts of\\n', 'interest and double funding. The rules related to the recording, storage, transfer and processing of data should\\n', 'comply with applicable data protection rules. The single integrated IT system should be developed with a view to\\n', 'avoiding double reporting and reducing administrative burden for Member States and other implementing entities.\\n', 'The Commission should act as the controller and be responsible for the development, management and supervision\\n', 'of the single integrated IT system. Member States, Union investigative, control and audit bodies including the\\n', 'European Anti-Fraud Office (OLAF), the Court of Auditors and the European Public Prosecutor’s Office (the ‘EPPO’)\\n', 'should have access to those data within the exercise of their respective competences. Such access should respect the\\n', 'principles of necessity and proportionality. Data available through the single integrated IT system should be made\\n', 'available to the European Parliament and the Council on a case-by-case basis to the extent necessary and\\n', 'proportionate to the exercise of their respective competences, in the context of the discharge procedure for\\n', 'the Commission.\\n', '(13) OJ L 123, 12.5.2016, p. 1.\\n', '(14) Directive (EU) 2015/849 of the European Parliament and of the Council of 20 May 2015 on the prevention of the use of the\\n', 'financial system for the purposes of money laundering or terrorist financing (OJ L 141, 5.6.2015, p. 73).\\n', '4/239 ELI: http://data.europa.eu/eli/reg/2024/2509/ojEN\\n', 'OJ L, 26.9.2024\\n', '(30) The single integrated IT system should be based on interoperability, whereby up-to-date information and data on\\n', 'recipients of Union funds should be retrieved from and transferred into that system, in an automatic way, in real\\n', 'time where feasible, using inter alia relevant national databases, internal systems of relevant national bodies and\\n', 'authorities, management and paying authorities, national public procurement and tender databases, publicly\\n', 'available data, and data from other Commission databases, thereby ensuring the comprehensiveness and\\n', 'completeness of the information and data.\\n', '(31) The single integrated IT system should be designed and put in place in a way that would allow the aggregation of\\n', 'relevant information in connection with the same recipients across different Union funding programmes. It should\\n', 'only use risk indicators that are objective, proportionate, necessary for risk assessment, as well as based on reliable\\n', 'sources of up-to-date information and data, in real time where feasible. The single integrated IT system should be\\n', 'designed for its use in line with general data protection principles, including data minimisation and storage\\n', 'limitation, applicable to the processing of personal data.\\n', '(32) For the purpose of ensuring that the functions of the single integrated IT system remain of a high standard, certain\\n', 'actions and measures should be implemented where feasible, including alignment of data fields with the relevant\\n', 'national and Commission IT systems and databases, with necessary additions for the purpose of the data-mining and\\n', 'risk-scoring tool, including reference to the unique identifier of the operations; integration of the relevant national IT\\n', 'systems and databases with the single integrated IT system for an automatic exchange of information; providing\\n', 'users with the possibility to tailor and group risk indicators and their weights to the needs and specificities of\\n', 'a Union fund, programme or country; use of artificial intelligence for analysing and interpreting data; providing\\n', 'users with multiple possibilities for using search options and filtering capabilities; providing users with guidance on\\n', 'the interpretation and use of data and results; and training on how to navigate the single integrated IT system, assess\\n', 'risks and take them into account in verifications and audits.\\n', '(33) In accordance with the principle of transparency enshrined in Article 15 TFEU, Union institutions are to conduct\\n', 'their work as openly as possible. With regard to budget implementation, the application of that principle implies\\n', 'that citizens should know where, and for what purpose, funds are spent by the Union. Such information fosters\\n', 'democratic debate, contributes to the participation of citizens in the Union’s decision-making process, reinforces\\n', 'institutional control and scrutiny over Union expenditure, and contributes to boosting its credibility.\\n', 'Communication should be more targeted and should aim to increase the visibility of the Union contribution for\\n', 'citizens. Such objectives should be achieved by the publication, preferably using modern communication tools, of\\n', 'relevant information concerning all recipients of funds financed from the budget which takes into account those\\n', 'recipients’ legitimate interests of confidentiality and security and, as far as natural persons are concerned, their right\\n', 'to privacy and the protection of their personal data. Union institutions should therefore adopt a selective approach\\n', 'in the publication of information, in accordance with the principle of proportionality. Decisions to publish should\\n', 'be based on relevant criteria in order to provide meaningful information.\\n', '(34) Without prejudice to the rules on the protection of personal data, the utmost transparency regarding information on\\n', 'recipients should be sought. The information on recipients of Union funds should be published on a centralised and\\n', 'dedicated website of Union institutions, such as the Financial Transparency System, and should be easily available via\\n', 'suitable and secure technical solutions. Publication requirements should cover all methods of budget\\n', 'implementation, including by other Union institutions and bodies.\\n', '(35) It should be possible for the Commission to implement the budget indirectly through Member State organisations.\\n', 'For reasons of legal certainty, it is therefore appropriate to define a Member State organisation as an entity\\n', 'established in a Member State as a public-law body, or as a body governed by private law entrusted with\\n', 'a public-service mission and provided with adequate financial guarantees by that Member State. Financial backing\\n', 'provided to such private-law bodies by a Member State in accordance with existing requirements set out in Union\\n', 'law, in a form decided by that Member State and not necessarily requiring a bank guarantee, should be considered as\\n', 'adequate financial guarantees.\\n', '(36) Personal data referring to natural persons should not be publicly available for longer than the period during which\\n', 'the funds are being used by the recipient and should therefore be removed after two years.\\n', '(37) In most of the cases covered by this Regulation, the publication concerns legal persons. Where natural persons are\\n', 'concerned, the publication of personal data should respect the principle of proportionality between the importance\\n', 'of the amount granted and the need to control the best use of the funds. In such cases, the publication of the region\\n', 'on level 2 of the common classification of territorial units for statistics (NUTS) is consistent with the objective of\\n', 'ELI: http://data.europa.eu/eli/reg/2024/2509/oj 5/239EN']\n",
      "[-0.0169773   0.01596237  0.01161895  0.01231197 -0.00812877 -0.03123596\n",
      "  0.01503114  0.04577323 -0.01691691 -0.01646404  0.00618025 -0.01991471\n",
      " -0.0058148   0.01455835  0.00040727 -0.00793197  0.0104116  -0.00882177\n",
      " -0.01360001 -0.04085416  0.01836594  0.00800881  0.02128593 -0.00940639\n",
      "  0.00530039 -0.00398593 -0.01472437 -0.00033099 -0.01675011  0.00355726\n",
      "  0.00748381 -0.00677793  0.01811051 -0.02787176 -0.00749109  0.0103347\n",
      "  0.01309783 -0.01716616 -0.01242876 -0.02623375 -0.00603125 -0.00425265\n",
      " -0.00999723 -0.00490255  0.01534801 -0.01034665 -0.01541126  0.00875773\n",
      "  0.01154851  0.02097978  0.00143252 -0.00613889 -0.00885409 -0.00353062\n",
      "  0.00284065  0.00143746  0.02026179 -0.00384754 -0.01897698  0.01517534\n",
      " -0.00126755  0.00272113 -0.00288637 -0.00756705 -0.02002057  0.01811181\n",
      "  0.00722037  0.0250607  -0.02410121  0.01843339  0.00571255  0.01809914\n",
      "  0.01845711 -0.0062392   0.02640788  0.00192684  0.01437476 -0.00555084\n",
      " -0.0173562  -0.01001063 -0.01497385  0.00565739 -0.0114548   0.02973323\n",
      " -0.00550735 -0.00300921  0.01696479  0.0068656   0.01483582  0.01592573\n",
      "  0.01947384 -0.00095129  0.01109692 -0.00304718  0.04070235  0.02094917\n",
      " -0.00076855 -0.02227538  0.01071144  0.00215787]\n"
     ]
    }
   ],
   "source": [
    "file_path = \"5_pages.txt\"\n",
    "\n",
    "with open(file_path, 'r') as file:\n",
    "    text = file.readlines()\n",
    "\n",
    "print(text)\n",
    "sentences = []\n",
    "for line in text:\n",
    "    # print(line)\n",
    "\n",
    "    # Remove all non-alphanumeric characters and convert to lowercase\n",
    "    # clean_line = re.sub(r'[^\\w\\s]', '', line.lower())\n",
    "    \n",
    "    # TODO: faire en sorte que ca soit propre, y a des phrase d'un seul mot et c'est vraiment nul\n",
    "    #       J me suis pas concentré sur ca pour le moment. J'ai aussi l'impression que la ponctuation reste dans le bail donc chelou\n",
    "    \n",
    "    words = line.split()\n",
    "    if len(words) > 1:\n",
    "        sentences.append(words)\n",
    "\n",
    "# Vector size of 100, it can be modified\n",
    "word2vec_model = Word2Vec(sentences, vector_size=100, window=5, min_count=1)\n",
    "word2vec_model.save(\"word2vec100.model\")\n",
    "\n",
    "word_vector = word2vec_model.wv[\"the\"]\n",
    "print(word_vector)\n"
   ]
  },
  {
   "cell_type": "code",
   "execution_count": 4,
   "metadata": {},
   "outputs": [
    {
     "name": "stdout",
     "output_type": "stream",
     "text": [
      "Nb of sentences: 244\n",
      "Nb of words in first sentence: 3\n",
      "Embbedding size of first word: 100\n"
     ]
    }
   ],
   "source": [
    "def sentences_to_vectors(sentences, word2vec_model):\n",
    "    \"\"\"Convert the sentences to the vector learned by word2vec\n",
    "\n",
    "    Args:\n",
    "        sentences (List[List[str]]): The first list contain the lines/sentences, the second one contain the words of the sentences\n",
    "        word2vec_model (Word2Vec): Word2Vec object trained on the actual corpus\n",
    "\n",
    "    Returns:\n",
    "        List[List[torch.Tensor]]: The same 2 list with the words converted to their word2Vec vector\n",
    "    \"\"\"\n",
    "    indices = []\n",
    "    for sentence in sentences:\n",
    "        sentence_vectors = []\n",
    "        for word in sentence: # Si le mot est dans le vocabulaire\n",
    "            if word in word2vec_model.wv.key_to_index:  \n",
    "                sentence_vectors.append(word2vec_model.wv[word])\n",
    "            else: # Si le mot n'existe pas dans le vocabulaire\n",
    "                print(f\"Le mot '{word}' n'existe pas dans le vocabulaire.\")\n",
    "                exit(0) \n",
    "        indices.append(torch.tensor(np.array(sentence_vectors)))\n",
    "    return indices\n",
    "\n",
    "# Conversion des phrases en vecteur\n",
    "sentence_vectors = sentences_to_vectors(sentences, word2vec_model)\n",
    "\n",
    "print(f\"Nb of sentences: {len(sentence_vectors)}\")\n",
    "print(f\"Nb of words in first sentence: {len(sentence_vectors[0])}\")\n",
    "print(f\"Embbedding size of first word: {len(sentence_vectors[0][0])}\")\n",
    "\n",
    "# Séparer les données en ensembles d'entraînement et de validation\n",
    "train_vectors, val_vectors = train_test_split(sentence_vectors, test_size=0.2, random_state=42)\n",
    "train_sentences, val_sentences = train_test_split(sentences, test_size=0.2, random_state=42)\n",
    "\n",
    "\n",
    "def check_mapping(train_vectors, val_vectors, train_sentences, val_sentences):\n",
    "    \"\"\" Check via the size that all vectors are correctly mapped to the right sentence\n",
    "\n",
    "    Args:\n",
    "        train_vectors (List[List[torch.Tensor]]): list of vector of check\n",
    "        val_vectors (List[List[torch.Tensor]]): list of vector of check\n",
    "        train_sentences (List[List[str]): list of words to check\n",
    "        val_sentences (List[List[str]): list of words to check\n",
    "\n",
    "    Raises:\n",
    "        Exception: if the check fails\n",
    "    \"\"\"\n",
    "    test_vectors = [train_vectors, val_vectors]\n",
    "    test_sentences = [train_sentences, val_sentences]\n",
    "\n",
    "    for i in range(len(test_vectors)):\n",
    "        for index in range(len(test_vectors[i])):\n",
    "            if (len(test_vectors[i][index]) != len(test_sentences[i][index])):\n",
    "                raise Exception(\"The size of the vector isn't the same that the corresponding sentence\")\n",
    "\n",
    "check_mapping(train_vectors, val_vectors, train_sentences, val_sentences)\n"
   ]
  },
  {
   "cell_type": "code",
   "execution_count": 5,
   "metadata": {},
   "outputs": [
    {
     "name": "stdout",
     "output_type": "stream",
     "text": [
      "1171\n"
     ]
    }
   ],
   "source": [
    "vocab_size = len(word2vec_model.wv.key_to_index)\n",
    "print(vocab_size)"
   ]
  },
  {
   "cell_type": "markdown",
   "metadata": {},
   "source": [
    "# Model"
   ]
  },
  {
   "cell_type": "code",
   "execution_count": 6,
   "metadata": {},
   "outputs": [],
   "source": [
    "class LSTM(nn.Module):\n",
    "    def __init__(self, vocab_size, embedding_dim, hidden_dim, n_layers):\n",
    "        super(LSTM, self).__init__()\n",
    "\n",
    "        self.lstm = nn.LSTM(embedding_dim, vocab_size + hidden_dim, n_layers, proj_size= vocab_size)\n",
    "\n",
    "    def forward(self, x):\n",
    "        x, _  = self.lstm(x)\n",
    "        # print(x.shape)\n",
    "        return x\n",
    "    \n",
    "lstm = LSTM(vocab_size, EMBEDDING_DIM, HIDDEN_DIM, N_LAYERS)"
   ]
  },
  {
   "cell_type": "code",
   "execution_count": 7,
   "metadata": {},
   "outputs": [],
   "source": [
    "def train(model, vectors, sentences, n_epochs, lr, batch_size, seq_len):\n",
    "    optimizer = torch.optim.Adam(model.parameters(), lr=lr)\n",
    "    criterion = nn.CrossEntropyLoss()\n",
    "\n",
    "    for epoch in range(n_epochs):\n",
    "        train_losses = []\n",
    "        for i,sentence in enumerate(sentences):\n",
    "\n",
    "            # Substract the last word as we didn't include the eos token (so we couldn't predict it)\n",
    "            x = vectors[i][:-1]\n",
    "            \n",
    "            # Create the one hot encoding of the correct prediction\n",
    "            y = torch.tensor(np.zeros((len(x), vocab_size)))\n",
    "            \n",
    "            # Start the sequence to the first word as we didn't include the sos token (so we couldn't predict it)\n",
    "            for j in range(1, len(x)):\n",
    "                y[0][word2vec_model.wv.get_index(sentence[j])] = 1.0\n",
    "\n",
    "            optimizer.zero_grad()\n",
    "            #print(sentence)\n",
    "            #print(x.shape)\n",
    "            output = model(x)\n",
    "\n",
    "            loss = criterion(output, y)\n",
    "            train_losses.append(loss.cpu().detach())\n",
    "            loss.backward()\n",
    "            optimizer.step()\n",
    "\n",
    "            if i % 100 == 0:\n",
    "                print(f\"epoch {epoch}, loss: {loss.item()}\")\n",
    "        \n",
    "        print(f\"Epoch {epoch} finished. Train loss: {np.array(train_losses).mean()}, Perplexity: {np.exp(np.array(train_losses).mean())}\")\n",
    "        torch.save(model.state_dict(), \"model.pth\")"
   ]
  },
  {
   "cell_type": "code",
   "execution_count": 8,
   "metadata": {},
   "outputs": [
    {
     "name": "stderr",
     "output_type": "stream",
     "text": [
      "/home/florenthervers/miniconda3/envs/WebAndText/lib/python3.9/site-packages/torch/nn/modules/rnn.py:917: UserWarning: LSTM with projections is not supported with oneDNN. Using default implementation. (Triggered internally at ../aten/src/ATen/native/RNN.cpp:1473.)\n",
      "  result = _VF.lstm(input, hx, self._flat_weights, self.bias, self.num_layers,\n"
     ]
    },
    {
     "name": "stdout",
     "output_type": "stream",
     "text": [
      "epoch 0, loss: 6.47585654258728\n",
      "epoch 0, loss: 6.334130525588989\n",
      "Epoch 0 finished. Train loss: 5.246514070590775, Perplexity: 189.90312440720695\n",
      "epoch 1, loss: 5.62911456823349\n",
      "epoch 1, loss: 5.964600460869925\n",
      "Epoch 1 finished. Train loss: 4.7996141758030815, Perplexity: 121.46354490235473\n",
      "epoch 2, loss: 5.689537823200226\n",
      "epoch 2, loss: 5.888705355780465\n",
      "Epoch 2 finished. Train loss: 4.756524247452977, Perplexity: 116.34085032871937\n",
      "epoch 3, loss: 5.6953896681467695\n",
      "epoch 3, loss: 5.859191349574497\n",
      "Epoch 3 finished. Train loss: 4.7386457578307555, Perplexity: 114.27933494583912\n",
      "epoch 4, loss: 5.675683856010437\n",
      "epoch 4, loss: 5.851117679050991\n",
      "Epoch 4 finished. Train loss: 4.725826280243064, Perplexity: 112.8236838510239\n"
     ]
    }
   ],
   "source": [
    "train(lstm, train_vectors, train_sentences, N_EPOCHS, LR, BATCH_SIZE, SEQ_LEN)"
   ]
  }
 ],
 "metadata": {
  "kernelspec": {
   "display_name": "WebAndText",
   "language": "python",
   "name": "python3"
  },
  "language_info": {
   "codemirror_mode": {
    "name": "ipython",
    "version": 3
   },
   "file_extension": ".py",
   "mimetype": "text/x-python",
   "name": "python",
   "nbconvert_exporter": "python",
   "pygments_lexer": "ipython3",
   "version": "3.9.20"
  }
 },
 "nbformat": 4,
 "nbformat_minor": 2
}
